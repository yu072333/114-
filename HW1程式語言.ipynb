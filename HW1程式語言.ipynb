# 📊 智慧家庭記帳與消費分析工具 (Gradio + Google Sheets I/O)

[![Python](https://img.shields.io/badge/Python-3.9+-blue.svg)](https://www.python.org/)
[![Gradio](https://img.shields.io/badge/Interface-Gradio-orange.svg)](https://gradio.app/)
[![gspread](https://img.shields.io/badge/Database-Google%20Sheets-green.svg)](https://gspread.readthedocs.io/)

---

## 💡 專案簡介 (Project Overview)

本專案是一個基於 Google Colab 的 Web 應用程式，旨在實現完整的 **Google Sheets I/O (讀寫)** 操作。使用者可以透過 Gradio 介面快速新增消費記錄，程式會自動從試算表讀取數據，進行消費習慣分析，並將報告結果寫回 Google Sheet。

此專案是為滿足 [課程名稱] 的作業要求而設計，涵蓋了 `def`、`for`、`if/else` 等基本程式結構。

## ✨ 核心功能與成果展示 (Features & Demo)

### 1. 記帳輸入 (I/O Input)
透過 Gradio 介面填寫日期、品項、金額等，資料即時寫入 Google Sheet 的 **'記帳資料'** 工作表。

### 2. 數據分析 (I/O Output & Analysis)
點擊分析按鈕後，程式會：
- 執行 **`for` 迴圈**與 **`if/else` 判斷**，計算「必需」與「非必需」消費佔比。
- 將「品項彙總」和「總體分析摘要」寫入 Google Sheet 的 **'分析報告'** 工作表。

***[建議在這裡放一張 Gradio 介面截圖 和 Google Sheet 分析結果的截圖，讓審閱者一目瞭然]***

## ⚙️ 環境設置與運行步驟 (Setup & Running)

### 1. Google 試算表準備
1.  建立一個新的 Google Sheet，並將其**分享**給您的 Google Colab 認證帳號（設定為**編輯者**）。
2.  確保包含記帳數據的工作表命名為：`記帳資料`。

### 2. Colab 運行
1.  開啟 `account_tracker.ipynb`。
2.  執行程式碼，完成 **Google 授權認證**。
3.  啟動 Gradio 介面。

## 💻 程式碼結構要求驗證 (Code Requirement Check)

| 結構 | 函式 | 說明 |
| :--- | :--- | :--- |
| `def` (函式) | `add_new_expense`, `analyze_and_update` | 定義了核心邏輯。 |
| `for` (迴圈) | `analyze_and_update` 內部 | 用於遍歷消費紀錄，進行必需品統計。 |
| `if/else` (判斷) | `add_new_expense` 內部 | 判斷並標準化 `is_essential` 的值。 |
| I/O | `gspread` 相關指令 | 實現數據的雙向讀取與寫入。 |
