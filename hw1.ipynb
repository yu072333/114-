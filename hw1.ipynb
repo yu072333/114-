{
  "cells": [
    {
      "cell_type": "markdown",
      "metadata": {
        "id": "view-in-github",
        "colab_type": "text"
      },
      "source": [
        "<a href=\"https://colab.research.google.com/github/yu072333/114-/blob/main/hw1.ipynb\" target=\"_parent\"><img src=\"https://colab.research.google.com/assets/colab-badge.svg\" alt=\"Open In Colab\"/></a>"
      ]
    },
    {
      "cell_type": "markdown",
      "source": [
        "# 新增區段"
      ],
      "metadata": {
        "id": "m6OBmwqnlIYE"
      }
    },
    {
      "cell_type": "code",
      "source": [
        "from google.colab import auth\n",
        "auth.authenticate_user()\n",
        "\n",
        "import gspread\n",
        "from google.auth import default\n",
        "creds, _ = default()\n",
        "\n",
        "gc = gspread.authorize(creds)"
      ],
      "metadata": {
        "id": "a79GtYPdg4CS"
      },
      "execution_count": null,
      "outputs": []
    },
    {
      "cell_type": "code",
      "execution_count": null,
      "metadata": {
        "id": "gJr_9dXGpJ05"
      },
      "outputs": [],
      "source": [
        "import pandas as pd\n",
        "# read data and put it in a dataframe\n",
        "# 在 google 工作表載入 gsheets\n",
        "gsheets = gc.open_by_url('https://docs.google.com/spreadsheets/d/1Dk1HCgX0yPg3gHSbxZL8bNssT5PaR5NvIRW3K7fd9M4/edit?usp=sharing')"
      ]
    },
    {
      "cell_type": "code",
      "execution_count": null,
      "metadata": {
        "id": "-gE-Ez1qtyIA"
      },
      "outputs": [],
      "source": [
        "!pip install gradio -q\n",
        "import gradio as gr\n",
        "import pandas as pd\n",
        "from datetime import datetime\n",
        "\n",
        "# 記帳資料存放在 '工作表1' 工作表\n",
        "SHEET_NAME = '工作表1'\n",
        "\n",
        "# 定義品項和支付方式選項\n",
        "CATEGORIES = ['外食', '買菜', '交通', '購物', '娛樂', '其他']\n",
        "PAYMENTS = ['電子支付', '信用卡', '現金']\n",
        "\n",
        "\n"
      ]
    },
    {
      "cell_type": "code",
      "source": [
        "# 核心函式 1: 寫入新記錄 (Input to GoogleSheet)\n",
        "def add_new_expense(date, category, amount, payment_method, is_essential):\n",
        "    \"\"\"\n",
        "    將一筆新的消費記錄寫入 Google 試算表。\n",
        "    (滿足結構要求: if/else, def)\n",
        "    \"\"\"\n",
        "    try:\n",
        "        worksheet = gsheets.worksheet(SHEET_NAME)\n",
        "    except Exception as e:\n",
        "        return f\"❌ 錯誤：無法找到或連接工作表 '{SHEET_NAME}'。請檢查工作表名稱和權限。\"\n",
        "       # **使用 if/else 判斷並標準化 '是否必需' 的值**\n",
        "    if is_essential:\n",
        "        essential_status = '是'\n",
        "    else:\n",
        "        essential_status = '否'\n",
        "     # 準備寫入的數據列\n",
        "    new_row = [date, category, amount, payment_method, essential_status]\n",
        "\n",
        "    # 寫入到工作表的最後一行\n",
        "    worksheet.append_row(new_row)\n",
        "\n",
        "    return f\"✅ 新增記錄成功：{date}，{category}，${amount} 元。\""
      ],
      "metadata": {
        "id": "P0QCmIYVfBR2"
      },
      "execution_count": null,
      "outputs": []
    },
    {
      "cell_type": "code",
      "source": [
        "#核心函式 2: 分析與寫回 Google Sheet (Output from GoogleSheet & Input to GoogleSheet)\n",
        "def analyze_and_update():\n",
        "    \"\"\"\n",
        "    從 Google Sheet 讀取數據、分析消費習慣，並將分析結果寫入另一個工作表。\n",
        "    (滿足結構要求: for, def)\n",
        "    \"\"\"\n",
        "    # --- 讀取數據 (Output from GoogleSheet) ---\n",
        "    worksheet = gsheets.worksheet(SHEET_NAME)\n",
        "    data = worksheet.get_all_values()\n",
        "\n",
        "    if len(data) <= 1:\n",
        "        return pd.DataFrame(), \"❌ 試算表中沒有足夠的消費數據可供分析。\", \"寫入狀態：無數據，未寫入。\"\n",
        "\n",
        "    # 轉換為 DataFrame，假設欄位順序固定\n",
        "    df = pd.DataFrame(data[1:], columns=data[0])\n",
        "    df.columns = ['日期', '品項', '金額', '支付方式', '是否必需']\n",
        "    df['金額'] = pd.to_numeric(df['金額'], errors='coerce').fillna(0)\n",
        "\n",
        "    # --- 數據分析 (使用 for 迴圈示範) ---\n",
        "    total_spending = df['金額'].sum()\n",
        "    essential_spending = 0\n",
        "    non_essential_spending = 0\n",
        "\n",
        "    # **使用 for 迴圈遍歷，並用 if 判斷**\n",
        "    # 統計必需與非必需消費\n",
        "    for index, row in df.iterrows():\n",
        "        if row['是否必需'] == '是':\n",
        "            essential_spending += row['金額']\n",
        "        else:\n",
        "            non_essential_spending += row['金額']\n",
        "\n",
        "    # 按品項彙總\n",
        "    category_summary = df.groupby('品項')['金額'].sum().sort_values(ascending=False).reset_index()\n",
        "    category_summary.rename(columns={'金額': '總花費金額 (元)'}, inplace=True)\n",
        "\n",
        "    # 創建分析結果 DataFrame\n",
        "    analysis_df = pd.DataFrame({\n",
        "        '分析項目': ['總消費', '必需消費', '非必需消費', '必需品佔比'],\n",
        "        '金額或數值': [\n",
        "            total_spending,\n",
        "            essential_spending,\n",
        "            non_essential_spending,\n",
        "            f\"{essential_spending/total_spending*100:.2f}%\" if total_spending > 0 else \"0%\"\n",
        "        ]\n",
        "    })\n",
        "\n",
        "    # --- 寫回 Google Sheet (Input to GoogleSheet) ---\n",
        "\n",
        "    # 將品項彙總和分析結果寫入 '分析報告' 工作表\n",
        "    try:\n",
        "        output_worksheet = gsheets.worksheet('分析報告')\n",
        "    except gspread.WorksheetNotFound:\n",
        "        output_worksheet = gsheets.add_worksheet(title=\"分析報告\", rows=\"100\", cols=\"20\")\n",
        "\n",
        "    output_worksheet.clear()\n",
        "\n",
        "    # 寫入品項彙總\n",
        "    output_worksheet.update('A1', [category_summary.columns.values.tolist()] + category_summary.values.tolist())\n",
        "\n",
        "    # 寫入空白行區隔\n",
        "    output_worksheet.update('A' + str(len(category_summary) + 3), [['消費習慣分析']])\n",
        "\n",
        "    # 寫入分析結果\n",
        "    output_worksheet.update('A' + str(len(category_summary) + 4), [analysis_df.columns.values.tolist()] + analysis_df.values.tolist())\n",
        "\n",
        "    summary_text = (\n",
        "        f\"**總消費金額：** ${total_spending:,.2f} 元\\n\"\n",
        "        f\"**必需花費佔比：** {analysis_df.loc[3, '金額或數值']}\"\n",
        "    )\n",
        "    write_status = \"✅ 分析結果已成功寫入 Google 試算表中的 **分析報告** 工作表！\"\n",
        "\n",
        "    return category_summary, summary_text, write_status"
      ],
      "metadata": {
        "id": "rxB0C5oXfEGF"
      },
      "execution_count": null,
      "outputs": []
    },
    {
      "cell_type": "code",
      "source": [
        "# --- Gradio 介面配置與啟動 ---\n",
        "\n",
        "# A. 記帳輸入介面 (Input)\n",
        "input_tab = gr.Interface(\n",
        "    fn=add_new_expense,\n",
        "    inputs=[\n",
        "        gr.Textbox(label=\"日期 (例如: 2023/10/26)\", value=datetime.now().strftime(\"%Y/%m/%d\")),\n",
        "        gr.Dropdown(CATEGORIES, label=\"品項/類別\", value='外食'),\n",
        "        gr.Number(label=\"金額\", minimum=0),\n",
        "        gr.Radio(PAYMENTS, label=\"支付方式\", value='電子支付'),\n",
        "        gr.Checkbox(label=\"是否必需 (勾選為 '是')\", value=True)\n",
        "    ],\n",
        "    outputs=gr.Markdown(label=\"寫入狀態\"),\n",
        "    title=\"新增消費記錄\",\n",
        "    description=\"在此填寫您的消費資料，資料將直接寫入 Google Sheet 的 '記帳資料' 工作表。\"\n",
        ")\n",
        "\n",
        "# B. 數據分析介面 (Output)\n",
        "output_tab = gr.Interface(\n",
        "    fn=analyze_and_update,\n",
        "    inputs=None, # 分析不需要額外輸入\n",
        "    outputs=[\n",
        "        gr.Dataframe(label=\"各品項消費彙總\"),\n",
        "        gr.Markdown(label=\"主要分析摘要\"),\n",
        "        gr.Markdown(label=\"Google Sheet 寫入狀態\")\n",
        "    ],\n",
        "    title=\"消費數據分析與報告\",\n",
        "    description=\"點擊 Submit 讀取最新數據，進行分析，並將報告寫入 '分析報告' 工作表。\",\n",
        "    live=False # 不實時更新，需按 Submit\n",
        ")\n",
        "\n",
        "# 組合兩個介面到一個 Gradio Tabs\n",
        "accountant_app = gr.TabbedInterface(\n",
        "    [input_tab, output_tab],\n",
        "    [\"🧾 記帳輸入\", \"📊 數據分析與報告\"],\n",
        "    title=\"家庭記帳與消費習慣分析工具\"\n",
        ")\n",
        "\n",
        "# 啟動 Gradio 介面\n",
        "accountant_app.launch(share=True)"
      ],
      "metadata": {
        "colab": {
          "base_uri": "https://localhost:8080/",
          "height": 611
        },
        "id": "zLUQDQ9Q9S8Z",
        "outputId": "53712e75-6c27-4fe0-ab4b-7422f43e3081"
      },
      "execution_count": null,
      "outputs": [
        {
          "output_type": "stream",
          "name": "stdout",
          "text": [
            "Colab notebook detected. To show errors in colab notebook, set debug=True in launch()\n",
            "* Running on public URL: https://4a6e886d7a25683898.gradio.live\n",
            "\n",
            "This share link expires in 1 week. For free permanent hosting and GPU upgrades, run `gradio deploy` from the terminal in the working directory to deploy to Hugging Face Spaces (https://huggingface.co/spaces)\n"
          ]
        },
        {
          "output_type": "display_data",
          "data": {
            "text/plain": [
              "<IPython.core.display.HTML object>"
            ],
            "text/html": [
              "<div><iframe src=\"https://4a6e886d7a25683898.gradio.live\" width=\"100%\" height=\"500\" allow=\"autoplay; camera; microphone; clipboard-read; clipboard-write;\" frameborder=\"0\" allowfullscreen></iframe></div>"
            ]
          },
          "metadata": {}
        },
        {
          "output_type": "execute_result",
          "data": {
            "text/plain": []
          },
          "metadata": {},
          "execution_count": 6
        }
      ]
    }
  ],
  "metadata": {
    "colab": {
      "provenance": [],
      "include_colab_link": true
    },
    "kernelspec": {
      "display_name": "Python 3",
      "name": "python3"
    }
  },
  "nbformat": 4,
  "nbformat_minor": 0
}