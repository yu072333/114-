{
  "nbformat": 4,
  "nbformat_minor": 0,
  "metadata": {
    "colab": {
      "provenance": [],
      "authorship_tag": "ABX9TyPyLJk96a6TLMhEARtlTUhR",
      "include_colab_link": true
    },
    "kernelspec": {
      "name": "python3",
      "display_name": "Python 3"
    },
    "language_info": {
      "name": "python"
    }
  },
  "cells": [
    {
      "cell_type": "markdown",
      "metadata": {
        "id": "view-in-github",
        "colab_type": "text"
      },
      "source": [
        "<a href=\"https://colab.research.google.com/github/yu072333/114-/blob/main/%E7%A8%8B%E5%BC%8F%E8%AA%9E%E8%A8%80%E4%BD%9C%E6%A5%AD4.ipynb\" target=\"_parent\"><img src=\"https://colab.research.google.com/assets/colab-badge.svg\" alt=\"Open In Colab\"/></a>"
      ]
    },
    {
      "cell_type": "code",
      "source": [
        "!pip install --upgrade google-generativeai"
      ],
      "metadata": {
        "colab": {
          "base_uri": "https://localhost:8080/"
        },
        "id": "AT_iYJFGTgts",
        "outputId": "e6221110-572f-4891-8098-2ef5b8e79c30"
      },
      "execution_count": 22,
      "outputs": [
        {
          "output_type": "stream",
          "name": "stdout",
          "text": [
            "Requirement already satisfied: google-generativeai in /usr/local/lib/python3.12/dist-packages (0.8.5)\n",
            "Requirement already satisfied: google-ai-generativelanguage==0.6.15 in /usr/local/lib/python3.12/dist-packages (from google-generativeai) (0.6.15)\n",
            "Requirement already satisfied: google-api-core in /usr/local/lib/python3.12/dist-packages (from google-generativeai) (2.26.0)\n",
            "Requirement already satisfied: google-api-python-client in /usr/local/lib/python3.12/dist-packages (from google-generativeai) (2.185.0)\n",
            "Requirement already satisfied: google-auth>=2.15.0 in /usr/local/lib/python3.12/dist-packages (from google-generativeai) (2.38.0)\n",
            "Requirement already satisfied: protobuf in /usr/local/lib/python3.12/dist-packages (from google-generativeai) (5.29.5)\n",
            "Requirement already satisfied: pydantic in /usr/local/lib/python3.12/dist-packages (from google-generativeai) (2.11.10)\n",
            "Requirement already satisfied: tqdm in /usr/local/lib/python3.12/dist-packages (from google-generativeai) (4.67.1)\n",
            "Requirement already satisfied: typing-extensions in /usr/local/lib/python3.12/dist-packages (from google-generativeai) (4.15.0)\n",
            "Requirement already satisfied: proto-plus<2.0.0dev,>=1.22.3 in /usr/local/lib/python3.12/dist-packages (from google-ai-generativelanguage==0.6.15->google-generativeai) (1.26.1)\n",
            "Requirement already satisfied: googleapis-common-protos<2.0.0,>=1.56.2 in /usr/local/lib/python3.12/dist-packages (from google-api-core->google-generativeai) (1.71.0)\n",
            "Requirement already satisfied: requests<3.0.0,>=2.18.0 in /usr/local/lib/python3.12/dist-packages (from google-api-core->google-generativeai) (2.32.4)\n",
            "Requirement already satisfied: cachetools<6.0,>=2.0.0 in /usr/local/lib/python3.12/dist-packages (from google-auth>=2.15.0->google-generativeai) (5.5.2)\n",
            "Requirement already satisfied: pyasn1-modules>=0.2.1 in /usr/local/lib/python3.12/dist-packages (from google-auth>=2.15.0->google-generativeai) (0.4.2)\n",
            "Requirement already satisfied: rsa<5,>=3.1.4 in /usr/local/lib/python3.12/dist-packages (from google-auth>=2.15.0->google-generativeai) (4.9.1)\n",
            "Requirement already satisfied: httplib2<1.0.0,>=0.19.0 in /usr/local/lib/python3.12/dist-packages (from google-api-python-client->google-generativeai) (0.31.0)\n",
            "Requirement already satisfied: google-auth-httplib2<1.0.0,>=0.2.0 in /usr/local/lib/python3.12/dist-packages (from google-api-python-client->google-generativeai) (0.2.0)\n",
            "Requirement already satisfied: uritemplate<5,>=3.0.1 in /usr/local/lib/python3.12/dist-packages (from google-api-python-client->google-generativeai) (4.2.0)\n",
            "Requirement already satisfied: annotated-types>=0.6.0 in /usr/local/lib/python3.12/dist-packages (from pydantic->google-generativeai) (0.7.0)\n",
            "Requirement already satisfied: pydantic-core==2.33.2 in /usr/local/lib/python3.12/dist-packages (from pydantic->google-generativeai) (2.33.2)\n",
            "Requirement already satisfied: typing-inspection>=0.4.0 in /usr/local/lib/python3.12/dist-packages (from pydantic->google-generativeai) (0.4.2)\n",
            "Requirement already satisfied: grpcio<2.0.0,>=1.33.2 in /usr/local/lib/python3.12/dist-packages (from google-api-core[grpc]!=2.0.*,!=2.1.*,!=2.10.*,!=2.2.*,!=2.3.*,!=2.4.*,!=2.5.*,!=2.6.*,!=2.7.*,!=2.8.*,!=2.9.*,<3.0.0dev,>=1.34.1->google-ai-generativelanguage==0.6.15->google-generativeai) (1.75.1)\n",
            "Requirement already satisfied: grpcio-status<2.0.0,>=1.33.2 in /usr/local/lib/python3.12/dist-packages (from google-api-core[grpc]!=2.0.*,!=2.1.*,!=2.10.*,!=2.2.*,!=2.3.*,!=2.4.*,!=2.5.*,!=2.6.*,!=2.7.*,!=2.8.*,!=2.9.*,<3.0.0dev,>=1.34.1->google-ai-generativelanguage==0.6.15->google-generativeai) (1.71.2)\n",
            "Requirement already satisfied: pyparsing<4,>=3.0.4 in /usr/local/lib/python3.12/dist-packages (from httplib2<1.0.0,>=0.19.0->google-api-python-client->google-generativeai) (3.2.5)\n",
            "Requirement already satisfied: pyasn1<0.7.0,>=0.6.1 in /usr/local/lib/python3.12/dist-packages (from pyasn1-modules>=0.2.1->google-auth>=2.15.0->google-generativeai) (0.6.1)\n",
            "Requirement already satisfied: charset_normalizer<4,>=2 in /usr/local/lib/python3.12/dist-packages (from requests<3.0.0,>=2.18.0->google-api-core->google-generativeai) (3.4.4)\n",
            "Requirement already satisfied: idna<4,>=2.5 in /usr/local/lib/python3.12/dist-packages (from requests<3.0.0,>=2.18.0->google-api-core->google-generativeai) (3.11)\n",
            "Requirement already satisfied: urllib3<3,>=1.21.1 in /usr/local/lib/python3.12/dist-packages (from requests<3.0.0,>=2.18.0->google-api-core->google-generativeai) (2.5.0)\n",
            "Requirement already satisfied: certifi>=2017.4.17 in /usr/local/lib/python3.12/dist-packages (from requests<3.0.0,>=2.18.0->google-api-core->google-generativeai) (2025.10.5)\n"
          ]
        }
      ]
    },
    {
      "cell_type": "code",
      "execution_count": 23,
      "metadata": {
        "id": "mC3m5MHTMzaq"
      },
      "outputs": [],
      "source": [
        "# ===========================================\n",
        "# 💰 PTT 省錢版全文分析 x Google Sheet x Gemini x Gradio\n",
        "# ===========================================\n",
        "# ---- 基本匯入 ----\n",
        "from google.colab import auth\n",
        "auth.authenticate_user()\n",
        "\n",
        "import gspread\n",
        "from google.auth import default\n",
        "import pandas as pd\n",
        "import requests\n",
        "from bs4 import BeautifulSoup\n",
        "import re\n",
        "import jieba\n",
        "from sklearn.feature_extraction.text import TfidfVectorizer\n",
        "from collections import Counter, defaultdict\n",
        "import gradio as gr\n",
        "import matplotlib.pyplot as plt\n",
        "import os\n",
        "import tempfile\n",
        "import google.generativeai as genai\n",
        "import concurrent.futures"
      ]
    },
    {
      "cell_type": "code",
      "source": [
        "# ---- Google Sheet 設定 (請根據您的 Sheet 網址修改) ----\n",
        "creds, _ = default()\n",
        "gc = gspread.authorize(creds)\n",
        "# ⚠️ 請將此 URL 替換為您實際的 Google Sheet 網址\n",
        "SHEET_URL =\"https://docs.google.com/spreadsheets/d/16kQ4F7zvCw0vfo7a3JUWeTeubgbGkWpc0GsMecl_VRQ/edit?gid=0#gid=0\"\n",
        "sh = gc.open_by_url(SHEET_URL)\n",
        "worksheet = sh.worksheet(\"PTT_ARTICLE\")\n"
      ],
      "metadata": {
        "id": "hBeWCe4DNAFK"
      },
      "execution_count": 24,
      "outputs": []
    },
    {
      "cell_type": "code",
      "source": [
        "# ---- Gemini API 設定 ----\n",
        "from google.colab import userdata\n",
        "import google.generativeai as genai\n",
        "\n",
        "api_key = userdata.get(\"gemini\")\n",
        "genai.configure(api_key=api_key)"
      ],
      "metadata": {
        "id": "z--qBZiJNUwp"
      },
      "execution_count": 25,
      "outputs": []
    },
    {
      "cell_type": "code",
      "source": [
        " #---- PTT 省錢版爬蟲函式 ----\n",
        "def crawl_ptt_lifeismoney(pages=3):\n",
        "    \"\"\"爬取 PTT 省錢版前幾頁文章及全文\"\"\"\n",
        "    base_url = \"https://www.ptt.cc/bbs/Lifeismoney/index.html\"\n",
        "    headers = {'User-Agent': 'Mozilla/5.0'}\n",
        "    articles = []\n",
        "\n",
        "    for _ in range(pages):\n",
        "        res = requests.get(base_url, cookies={\"over18\": \"1\"}, headers=headers, timeout=5)\n",
        "        soup = BeautifulSoup(res.text, \"html.parser\")\n",
        "\n",
        "        for entry in soup.select(\".r-ent\"):\n",
        "            title_tag = entry.select_one(\".title a\")\n",
        "            author = entry.select_one(\".author\").text.strip()\n",
        "            date = entry.select_one(\".date\").text.strip()\n",
        "\n",
        "            if title_tag:\n",
        "                title = title_tag.text.strip()\n",
        "                href = \"https://www.ptt.cc\" + title_tag[\"href\"]\n",
        "\n",
        "                try:\n",
        "                    art_res = requests.get(href, cookies={\"over18\": \"1\"}, headers=headers, timeout=5)\n",
        "                    art_soup = BeautifulSoup(art_res.text, \"html.parser\")\n",
        "                    content = art_soup.select_one(\"#main-content\").text.strip()\n",
        "                    content = re.sub(r\"--\\s.*\", \"\", content, flags=re.S)\n",
        "                    content = content[:300]  # 只取前 300 字避免太慢\n",
        "                except:\n",
        "                    content = \"(無法取得內文)\"\n",
        "            else:\n",
        "                title = \"(已刪除)\"\n",
        "                href = \"\"\n",
        "                content = \"(無法取得內文)\"\n",
        "\n",
        "            articles.append({\n",
        "                \"title\": title,\n",
        "                \"author\": author,\n",
        "                \"date\": date,\n",
        "                \"href\": href,\n",
        "                \"content\": content\n",
        "            })\n",
        "\n",
        "        prev = soup.find(\"a\", string=\"上頁\")\n",
        "        if not prev: break\n",
        "        base_url = \"https://www.ptt.cc\" + prev[\"href\"]\n",
        "\n",
        "    return pd.DataFrame(articles)"
      ],
      "metadata": {
        "id": "HeTQzcIrNZNh"
      },
      "execution_count": 26,
      "outputs": []
    },
    {
      "cell_type": "code",
      "source": [
        "# ---- 詞頻與 TF-IDF 分析 ----\n",
        "def analyze_text(df):\n",
        "    stopwords = set([\n",
        "        '的','了','是','在','我','你','他','她','之','一個','和','討論','分享', '優惠','活動','折價','折扣','情報','好康','買','賣','元','錢','省錢', '回饋','期限','連結','點數','商品','使用','沒有','這個','可以','大家', '請益','問題','發問','謝謝','求助'])\n",
        "    word_counts = Counter()\n",
        "    documents = []\n",
        "\n",
        "    for text in df[\"content\"]:\n",
        "        cleaned = re.sub(r\"[^\\w\\s]\", \"\", text)\n",
        "        words = [w for w in jieba.lcut(cleaned) if len(w.strip())>1 and w not in stopwords]\n",
        "        word_counts.update(words)\n",
        "        documents.append(\" \".join(words))\n",
        "\n",
        "    top_freq = word_counts.most_common(20)\n",
        "\n",
        "    vectorizer = TfidfVectorizer()\n",
        "    tfidf_matrix = vectorizer.fit_transform(documents)\n",
        "    features = vectorizer.get_feature_names_out()\n",
        "    avg_scores = defaultdict(float)\n",
        "\n",
        "    for row in tfidf_matrix.toarray():\n",
        "        for i, val in enumerate(row):\n",
        "            avg_scores[features[i]] += val\n",
        "    for k in avg_scores: avg_scores[k] /= len(documents)\n",
        "\n",
        "    top_tfidf = sorted(avg_scores.items(), key=lambda x:x[1], reverse=True)[:20]\n",
        "\n",
        "    return top_freq, top_tfidf\n",
        "\n",
        "# ---- Gemini 洞察函式（加入 timeout） ----\n",
        "def generate_insight(text_summary):\n",
        "    \"\"\"用 Gemini 生成 5 句洞察 + 120 字結論\"\"\"\n",
        "    prompt = f\"\"\"\n",
        "    根據以下文字內容，請生成五句精煉洞察，並以約120字給出總結性評論。\n",
        "    ---\n",
        "    {text_summary}\n",
        "    \"\"\"\n",
        "    model = genai.GenerativeModel(\"gemini-1.5-flash\")\n",
        "\n",
        "    def call_model():\n",
        "        return model.generate_content(prompt).text\n",
        "\n",
        "    with concurrent.futures.ThreadPoolExecutor() as executor:\n",
        "        future = executor.submit(call_model)\n",
        "        try:\n",
        "            return future.result(timeout=15)  # 最多等 15 秒\n",
        "        except concurrent.futures.TimeoutError:\n",
        "            return \"⚠️ Gemini 回應逾時（超過15秒）\""
      ],
      "metadata": {
        "id": "HbhQk5EZNmwQ"
      },
      "execution_count": 27,
      "outputs": []
    },
    {
      "cell_type": "code",
      "source": [
        "\n",
        "# ---- 主函式 ----\n",
        "def main(pages=3, topn=10):\n",
        "    df = crawl_ptt_lifeismoney(pages)\n",
        "    worksheet.clear()\n",
        "    worksheet.update([df.columns.values.tolist()] + df.values.tolist())\n",
        "\n",
        "    top_freq, top_tfidf = analyze_text(df)\n",
        "\n",
        "    # 回寫統計表\n",
        "    try:\n",
        "        stat_ws = sh.worksheet(\"統計結果\")\n",
        "    except:\n",
        "        stat_ws = sh.add_worksheet(title=\"統計結果\", rows=100, cols=6)\n",
        "\n",
        "    stat_data = [[\"排名\",\"詞\",\"詞頻\",\"TF-IDF權重\"]]\n",
        "    for i in range(min(topn, len(top_freq))):\n",
        "        word_f, count = top_freq[i]\n",
        "        word_t, score = top_tfidf[i]\n",
        "        stat_data.append([i+1, word_f, count, f\"{score:.4f}\"])\n",
        "    stat_ws.clear()\n",
        "    stat_ws.update(stat_data)\n",
        "\n",
        "    insight_input = \" \".join(df[\"content\"].head(5))\n",
        "    summary = generate_insight(insight_input)\n",
        "\n",
        "    return df.head(10), summary, stat_data[1:]\n",
        ""
      ],
      "metadata": {
        "id": "w9S1XvjSNqUZ"
      },
      "execution_count": 28,
      "outputs": []
    },
    {
      "cell_type": "code",
      "source": [
        "# ---- Gradio 介面 ----\n",
        "def run_ui(pages, topn):\n",
        "    df, summary, stats = main(int(pages), int(topn))\n",
        "\n",
        "    fig, ax = plt.subplots(figsize=(6,3))\n",
        "    words = [row[1] for row in stats]\n",
        "    counts = [int(row[2]) for row in stats]\n",
        "    ax.barh(words[::-1], counts[::-1])\n",
        "    plt.title(\"Top 詞頻統計\")\n",
        "    plt.tight_layout()\n",
        "    tmp = tempfile.NamedTemporaryFile(delete=False, suffix=\".png\")\n",
        "    plt.savefig(tmp.name)\n",
        "\n",
        "    return (\n",
        "        df.to_markdown(),\n",
        "        summary,\n",
        "        tmp.name\n",
        "    )\n",
        "\n",
        "demo = gr.Interface(\n",
        "    fn=run_ui,\n",
        "    inputs=[\n",
        "        gr.Number(value=3, label=\"爬取頁數\"),\n",
        "        gr.Number(value=10, label=\"顯示前 N 熱詞\")\n",
        "    ],\n",
        "    outputs=[\n",
        "        gr.Textbox(label=\"📄 PTT 省錢版前10篇文章資料 (前10筆)\", lines=15),\n",
        "        gr.Textbox(label=\"💡 Gemini 洞察摘要 + 結論\", lines=8),\n",
        "        gr.Image(label=\"📊 詞頻圖表\")\n",
        "    ],\n",
        "    title=\"PTT 省錢版 全文分析 x Google Sheet x Gemini\",\n",
        "    description=\"一鍵爬取、統計與生成 AI 洞察報告\"\n",
        ")\n",
        "\n",
        "demo.launch()"
      ],
      "metadata": {
        "colab": {
          "base_uri": "https://localhost:8080/",
          "height": 645
        },
        "id": "I97LX-4iNtRk",
        "outputId": "a7366dde-59c0-4d10-d858-93bfc9ce3544"
      },
      "execution_count": 29,
      "outputs": [
        {
          "output_type": "stream",
          "name": "stdout",
          "text": [
            "It looks like you are running Gradio on a hosted Jupyter notebook, which requires `share=True`. Automatically setting `share=True` (you can turn this off by setting `share=False` in `launch()` explicitly).\n",
            "\n",
            "Colab notebook detected. To show errors in colab notebook, set debug=True in launch()\n",
            "* Running on public URL: https://beb83b1e9f17acfd4a.gradio.live\n",
            "\n",
            "This share link expires in 1 week. For free permanent hosting and GPU upgrades, run `gradio deploy` from the terminal in the working directory to deploy to Hugging Face Spaces (https://huggingface.co/spaces)\n"
          ]
        },
        {
          "output_type": "display_data",
          "data": {
            "text/plain": [
              "<IPython.core.display.HTML object>"
            ],
            "text/html": [
              "<div><iframe src=\"https://beb83b1e9f17acfd4a.gradio.live\" width=\"100%\" height=\"500\" allow=\"autoplay; camera; microphone; clipboard-read; clipboard-write;\" frameborder=\"0\" allowfullscreen></iframe></div>"
            ]
          },
          "metadata": {}
        },
        {
          "output_type": "execute_result",
          "data": {
            "text/plain": []
          },
          "metadata": {},
          "execution_count": 29
        }
      ]
    }
  ]
}

